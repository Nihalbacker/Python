{
 "cells": [
  {
   "cell_type": "code",
   "execution_count": 1,
   "metadata": {},
   "outputs": [
    {
     "name": "stdout",
     "output_type": "stream",
     "text": [
      "1.Square\n",
      "2.Rectangle\n",
      "3.Triangle\n",
      "4.Exit\n",
      "enter your choice:1\n",
      "Enter side:2\n",
      "Area of square: 4\n",
      "1.Square\n",
      "2.Rectangle\n",
      "3.Triangle\n",
      "4.Exit\n",
      "enter your choice:2\n",
      "Enter length:3\n",
      "Enter breadth:4\n",
      "Area of rectangle: 12\n",
      "1.Square\n",
      "2.Rectangle\n",
      "3.Triangle\n",
      "4.Exit\n",
      "enter your choice:3\n",
      "Enter breadth:5\n",
      "Enter height:3\n",
      "Area of triangle: 7.5\n",
      "1.Square\n",
      "2.Rectangle\n",
      "3.Triangle\n",
      "4.Exit\n",
      "enter your choice:4\n",
      "Exiting....\n"
     ]
    }
   ],
   "source": [
    "#lambda functions to find area of square, rectangle and triangle.\n",
    "sqr=lambda a:a*a\n",
    "rect=lambda l,b:l*b\n",
    "tri=lambda b,h:(b*h)/2\n",
    "while(1):\n",
    "    print(\"1.Square\\n2.Rectangle\\n3.Triangle\\n4.Exit\")\n",
    "    ch=int(input(\"enter your choice:\"))\n",
    "    if(ch==1):\n",
    "        a=int(input(\"Enter side:\"))\n",
    "        print(\"Area of square:\",sqr(a))\n",
    "    elif(ch==2):\n",
    "        l=int(input(\"Enter length:\"))\n",
    "        b=int(input(\"Enter breadth:\"))\n",
    "        print(\"Area of rectangle:\",rect(l,b))\n",
    "    elif(ch==3):\n",
    "        b=int(input(\"Enter breadth:\"))\n",
    "        h=int(input(\"Enter height:\"))\n",
    "        print(\"Area of triangle:\",tri(b,h))\n",
    "    else:\n",
    "        print(\"Exiting....\")\n",
    "        break"
   ]
  }
 ],
 "metadata": {
  "kernelspec": {
   "display_name": "Python 3",
   "language": "python",
   "name": "python3"
  },
  "language_info": {
   "codemirror_mode": {
    "name": "ipython",
    "version": 3
   },
   "file_extension": ".py",
   "mimetype": "text/x-python",
   "name": "python",
   "nbconvert_exporter": "python",
   "pygments_lexer": "ipython3",
   "version": "3.6.3"
  }
 },
 "nbformat": 4,
 "nbformat_minor": 2
}
