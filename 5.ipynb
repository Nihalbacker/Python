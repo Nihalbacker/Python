{
 "cells": [
  {
   "cell_type": "code",
   "execution_count": 1,
   "metadata": {},
   "outputs": [
    {
     "name": "stdout",
     "output_type": "stream",
     "text": [
      "enter the principle amount2000\n",
      "enter number of years1\n",
      "Enter the interest rate3\n",
      "the si is 60.0\n"
     ]
    }
   ],
   "source": [
    "p=int(input(\"enter the principle amount\"))\n",
    "n=int(input(\"enter number of years\"))\n",
    "r=int(input(\"Enter the interest rate\"))\n",
    "si=p*n*r/100\n",
    "print(\"the si is\",si)"
   ]
  }
 ],
 "metadata": {
  "kernelspec": {
   "display_name": "Python 3",
   "language": "python",
   "name": "python3"
  },
  "language_info": {
   "codemirror_mode": {
    "name": "ipython",
    "version": 3
   },
   "file_extension": ".py",
   "mimetype": "text/x-python",
   "name": "python",
   "nbconvert_exporter": "python",
   "pygments_lexer": "ipython3",
   "version": "3.6.3"
  }
 },
 "nbformat": 4,
 "nbformat_minor": 2
}
