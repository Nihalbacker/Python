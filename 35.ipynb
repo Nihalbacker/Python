{
 "cells": [
  {
   "cell_type": "code",
   "execution_count": 1,
   "metadata": {},
   "outputs": [
    {
     "name": "stdout",
     "output_type": "stream",
     "text": [
      "Enter the string:nihal 123\n",
      "letters 5\n",
      "digits 3\n"
     ]
    }
   ],
   "source": [
    "#calculate numbers and digits in a string\n",
    "n=input(\"Enter the string:\")\n",
    "a=b=0\n",
    "for d in n:\n",
    "     if d.isdigit():\n",
    "        a=a+1    \n",
    "     elif d.isalpha():\n",
    "        b=b+1\n",
    "     else:\n",
    "        pass\n",
    "print(\"letters\",b)\n",
    "print(\"digits\",a)\n"
   ]
  }
 ],
 "metadata": {
  "kernelspec": {
   "display_name": "Python 3",
   "language": "python",
   "name": "python3"
  },
  "language_info": {
   "codemirror_mode": {
    "name": "ipython",
    "version": 3
   },
   "file_extension": ".py",
   "mimetype": "text/x-python",
   "name": "python",
   "nbconvert_exporter": "python",
   "pygments_lexer": "ipython3",
   "version": "3.6.3"
  }
 },
 "nbformat": 4,
 "nbformat_minor": 2
}
