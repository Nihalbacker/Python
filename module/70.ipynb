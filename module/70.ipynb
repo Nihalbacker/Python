{
 "cells": [
  {
   "cell_type": "code",
   "execution_count": 1,
   "metadata": {},
   "outputs": [
    {
     "name": "stdout",
     "output_type": "stream",
     "text": [
      "1.Rectangle\n",
      "2.Circle\n",
      "3.Exit\n",
      "Enter your choice:2\n",
      "Enter the radius3\n",
      "Area= 28.259999999999998\n",
      "Perimeter= 56.519999999999996\n",
      "1.Rectangle\n",
      "2.Circle\n",
      "3.Exit\n",
      "Enter your choice:1\n",
      "Enter length2\n",
      "Enter breadth3\n",
      "Area= 6\n",
      "Perimeter= 10\n",
      "1.Rectangle\n",
      "2.Circle\n",
      "3.Exit\n",
      "Enter your choice:3\n",
      "Exiting.....\n"
     ]
    }
   ],
   "source": [
    "\"\"\" Create modules Rectangle, Circle. Write\n",
    "programs that finds area and perimeter of figures by different\n",
    "importing statements)\"\"\"\n",
    "import rectangle\n",
    "import circle\n",
    "while(1):\n",
    "    print(\"1.Rectangle\\n2.Circle\\n3.Exit\")\n",
    "    ch=int(input(\"Enter your choice:\"))\n",
    "    if(ch==1):\n",
    "        l=int(input(\"Enter length\"))\n",
    "        b=int(input(\"Enter breadth\"))\n",
    "        rectangle.rectarea(l,b)\n",
    "        rectangle.rectper(l,b)\n",
    "    if(ch==2):\n",
    "        r=int(input(\"Enter the radius\"))\n",
    "        circle.circlearea(r)\n",
    "        circle.circleper(r)\n",
    "    if(ch==3):\n",
    "        print(\"Exiting.....\")\n",
    "        break\n",
    "          "
   ]
  }
 ],
 "metadata": {
  "kernelspec": {
   "display_name": "Python 3",
   "language": "python",
   "name": "python3"
  },
  "language_info": {
   "codemirror_mode": {
    "name": "ipython",
    "version": 3
   },
   "file_extension": ".py",
   "mimetype": "text/x-python",
   "name": "python",
   "nbconvert_exporter": "python",
   "pygments_lexer": "ipython3",
   "version": "3.6.3"
  }
 },
 "nbformat": 4,
 "nbformat_minor": 2
}
