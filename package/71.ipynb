{
 "cells": [
  {
   "cell_type": "code",
   "execution_count": 10,
   "metadata": {},
   "outputs": [
    {
     "name": "stdout",
     "output_type": "stream",
     "text": [
      "1.Rectangle\n",
      "2.Circle\n",
      "3.Cuboid\n",
      "4.Sphere\n",
      "5.Exit\n",
      "Enter your choice:2\n",
      "Enter the radius:3\n",
      "Area of circle: 28.259999999999998\n",
      "Perimeter of circle: 18.84\n",
      "1.Rectangle\n",
      "2.Circle\n",
      "3.Cuboid\n",
      "4.Sphere\n",
      "5.Exit\n",
      "Enter your choice:5\n",
      "Exiting......\n"
     ]
    }
   ],
   "source": [
    "Create a package graphics with modules rectangle, circle and sub�package graphics3D with modules cuboid and sphere.\n"
    "from Graphics import rectangle\n",
    "from Graphics import circ\n",
    "from Graphics.Graphics3D import cuboid\n",
    "from Graphics.Graphics3D import sphere\n",
    "\n",
    "while(1):\n",
    "    print(\"1.Rectangle\\n2.Circle\\n3.Cuboid\\n4.Sphere\\n5.Exit\")\n",
    "    ch=int(input(\"Enter your choice:\"))\n",
    "    if ch==1:\n",
    "        l=int(input(\"Enter length:\"))\n",
    "        b=int(input(\"Enter breadth:\"))\n",
    "        rectangle.rectarea(l,b)\n",
    "        rectangle.rectperi(l,b)\n",
    "    elif ch==2:\n",
    "        r=int(input(\"Enter the radius:\"))\n",
    "        circ.circlearea(r)\n",
    "        circ.circleperi(r)\n",
    "    elif ch==3:\n",
    "        l=int(input(\"Enter length:\"))\n",
    "        b=int(input(\"Enter breadth:\"))\n",
    "        h=int(input(\"Enter height:\"))\n",
    "        cuboid.cuboidarea(l,b,h)\n",
    "        cuboid.cuboidperi(l,b,h)\n",
    "    elif ch==4:\n",
    "        r=int(input(\"Enter radius:\"))\n",
    "        sphere.spherearea(r)\n",
    "        sphere.sphereperi(r)\n",
    "    else:\n",
    "        print(\"Exiting......\")\n",
    "        break"
   ]
  }
 ],
 "metadata": {
  "kernelspec": {
   "display_name": "Python 3",
   "language": "python",
   "name": "python3"
  },
  "language_info": {
   "codemirror_mode": {
    "name": "ipython",
    "version": 3
   },
   "file_extension": ".py",
   "mimetype": "text/x-python",
   "name": "python",
   "nbconvert_exporter": "python",
   "pygments_lexer": "ipython3",
   "version": "3.6.3"
  }
 },
 "nbformat": 4,
 "nbformat_minor": 2
}
