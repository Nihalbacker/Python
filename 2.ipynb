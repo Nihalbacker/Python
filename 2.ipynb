{
 "cells": [
  {
   "cell_type": "code",
   "execution_count": 1,
   "metadata": {},
   "outputs": [
    {
     "name": "stdout",
     "output_type": "stream",
     "text": [
      "enter a base:4\n",
      "enter the height5\n",
      "area of a right angled triangle is : 10.0\n"
     ]
    }
   ],
   "source": [
    "b=int(input(\"enter a base:\"))\n",
    "h=int(input(\"enter the height\"))\n",
    "area=(b*h)/2\n",
    "print(\"area of a right angled triangle is :\",area)"
   ]
  }
 ],
 "metadata": {
  "kernelspec": {
   "display_name": "Python 3",
   "language": "python",
   "name": "python3"
  },
  "language_info": {
   "codemirror_mode": {
    "name": "ipython",
    "version": 3
   },
   "file_extension": ".py",
   "mimetype": "text/x-python",
   "name": "python",
   "nbconvert_exporter": "python",
   "pygments_lexer": "ipython3",
   "version": "3.6.3"
  }
 },
 "nbformat": 4,
 "nbformat_minor": 2
}
