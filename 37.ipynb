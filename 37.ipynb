{
 "cells": [
  {
   "cell_type": "code",
   "execution_count": 2,
   "metadata": {},
   "outputs": [
    {
     "name": "stdout",
     "output_type": "stream",
     "text": [
      "Enter the number:12345\n",
      "sum of all items in a list:15\n"
     ]
    }
   ],
   "source": [
    "#sum of all items in a list\n",
    "a=list(input(\"Enter \"))\n",
    "t=0\n",
    "for i in range (0,len(a)):\n",
    "                t=t+int(a[i])\n",
    "print(\"Sum of all items in a list:%d\"%t)"
   ]
  }
 ],
 "metadata": {
  "kernelspec": {
   "display_name": "Python 3",
   "language": "python",
   "name": "python3"
  },
  "language_info": {
   "codemirror_mode": {
    "name": "ipython",
    "version": 3
   },
   "file_extension": ".py",
   "mimetype": "text/x-python",
   "name": "python",
   "nbconvert_exporter": "python",
   "pygments_lexer": "ipython3",
   "version": "3.6.3"
  }
 },
 "nbformat": 4,
 "nbformat_minor": 2
}
