{
 "cells": [
  {
   "cell_type": "code",
   "execution_count": 4,
   "metadata": {},
   "outputs": [
    {
     "name": "stdout",
     "output_type": "stream",
     "text": [
      "enter 1st number:49\n",
      "enter 2nd number:7\n",
      "Gcd of 49 and 7 =7\n"
     ]
    }
   ],
   "source": [
    "#gcd of two numbers\n",
    "n1=int(input(\"enter 1st number:\"))\n",
    "n2=int(input(\"enter 2nd number:\"))\n",
    "if(n1<n2):\n",
    "    c=n1\n",
    "else:\n",
    "    c=n2\n",
    "while(c>0):\n",
    "    if(n1%c==0 and n2%c==0):\n",
    "        print(\"Gcd of\",n1,\"and\",n2,\"=%d\"%c)\n",
    "        break\n",
    "    c=c-1"
   ]
  }
 ],
 "metadata": {
  "kernelspec": {
   "display_name": "Python 3",
   "language": "python",
   "name": "python3"
  },
  "language_info": {
   "codemirror_mode": {
    "name": "ipython",
    "version": 3
   },
   "file_extension": ".py",
   "mimetype": "text/x-python",
   "name": "python",
   "nbconvert_exporter": "python",
   "pygments_lexer": "ipython3",
   "version": "3.6.3"
  }
 },
 "nbformat": 4,
 "nbformat_minor": 2
}
