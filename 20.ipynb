{
 "cells": [
  {
   "cell_type": "code",
   "execution_count": 2,
   "metadata": {},
   "outputs": [
    {
     "name": "stdout",
     "output_type": "stream",
     "text": [
      "Enter the height:2\n",
      "Enter the breadth:3\n",
      "Its a rectangle\n"
     ]
    }
   ],
   "source": [
    "a=int(input(\"Enter the height:\"))\n",
    "b=int(input(\"Enter the breadth:\"))\n",
    "if(a==b):\n",
    "    print(\"Its a square\")\n",
    "else:\n",
    "    print(\"Its a rectangle\")\n"
   ]
  }
 ],
 "metadata": {
  "kernelspec": {
   "display_name": "Python 3",
   "language": "python",
   "name": "python3"
  },
  "language_info": {
   "codemirror_mode": {
    "name": "ipython",
    "version": 3
   },
   "file_extension": ".py",
   "mimetype": "text/x-python",
   "name": "python",
   "nbconvert_exporter": "python",
   "pygments_lexer": "ipython3",
   "version": "3.6.3"
  }
 },
 "nbformat": 4,
 "nbformat_minor": 2
}
