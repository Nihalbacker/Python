{
 "cells": [
  {
   "cell_type": "code",
   "execution_count": 4,
   "metadata": {},
   "outputs": [
    {
     "name": "stdout",
     "output_type": "stream",
     "text": [
      "Difference of color list_1 and color_list2:\n",
      "{'White', 'Orange'}\n"
     ]
    }
   ],
   "source": [
    "#print out all colors from color-list1 not contained in color-list2\n",
    "color_list_1 = set([\"Orange\",\"Green\",\"White\"])\n",
    "color_list_2 = set([\"Blue\",\"Green\"])\n",
    "print(\"Difference of color list_1 and color_list2:\")\n",
    "print(color_list_1.difference(color_list_2))"
   ]
  }
 ],
 "metadata": {
  "kernelspec": {
   "display_name": "Python 3",
   "language": "python",
   "name": "python3"
  },
  "language_info": {
   "codemirror_mode": {
    "name": "ipython",
    "version": 3
   },
   "file_extension": ".py",
   "mimetype": "text/x-python",
   "name": "python",
   "nbconvert_exporter": "python",
   "pygments_lexer": "ipython3",
   "version": "3.6.3"
  }
 },
 "nbformat": 4,
 "nbformat_minor": 2
}
