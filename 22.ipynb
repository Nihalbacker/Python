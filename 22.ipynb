{
 "cells": [
  {
   "cell_type": "code",
   "execution_count": 8,
   "metadata": {},
   "outputs": [
    {
     "name": "stdout",
     "output_type": "stream",
     "text": [
      "Enter how much classes held100\n",
      "Enter how much classes attended76\n",
      "his percentage is 76 and allowed for exam\n"
     ]
    }
   ],
   "source": [
    "a=int(input(\"Enter how much classes held\"))\n",
    "b=int(input(\"Enter how much classes attended\"))\n",
    "per=b/a*100\n",
    "if(per<75):\n",
    "    print(\"his percentage is %d and not allowed for exam\"%per)\n",
    "elif(per>75):\n",
    "    print(\"his percentage is %d and allowed for exam\"%per)\n",
    "    \n"
   ]
  }
 ],
 "metadata": {
  "kernelspec": {
   "display_name": "Python 3",
   "language": "python",
   "name": "python3"
  },
  "language_info": {
   "codemirror_mode": {
    "name": "ipython",
    "version": 3
   },
   "file_extension": ".py",
   "mimetype": "text/x-python",
   "name": "python",
   "nbconvert_exporter": "python",
   "pygments_lexer": "ipython3",
   "version": "3.6.3"
  }
 },
 "nbformat": 4,
 "nbformat_minor": 2
}
