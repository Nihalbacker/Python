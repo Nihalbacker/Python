{
 "cells": [
  {
   "cell_type": "code",
   "execution_count": 6,
   "metadata": {},
   "outputs": [
    {
     "name": "stdout",
     "output_type": "stream",
     "text": [
      "Enter a string:          \n",
      "Frequency\n",
      "  = 10\n"
     ]
    }
   ],
   "source": [
    "#frequency of characters in a given string\n",
    "s=input(\"Enter a string:\")\n",
    "frq={}\n",
    "print(\"Frequency\")\n",
    "for i in s:\n",
    "    if i in frq:\n",
    "        frq[i]=frq[i]+1\n",
    "    else:\n",
    "        frq[i]=1\n",
    "for keys,value in frq.items():\n",
    "    print(keys,\"=\",value)"
   ]
  }
 ],
 "metadata": {
  "kernelspec": {
   "display_name": "Python 3",
   "language": "python",
   "name": "python3"
  },
  "language_info": {
   "codemirror_mode": {
    "name": "ipython",
    "version": 3
   },
   "file_extension": ".py",
   "mimetype": "text/x-python",
   "name": "python",
   "nbconvert_exporter": "python",
   "pygments_lexer": "ipython3",
   "version": "3.6.3"
  }
 },
 "nbformat": 4,
 "nbformat_minor": 2
}
