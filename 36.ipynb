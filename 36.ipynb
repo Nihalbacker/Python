{
 "cells": [
  {
   "cell_type": "code",
   "execution_count": 4,
   "metadata": {},
   "outputs": [
    {
     "name": "stdout",
     "output_type": "stream",
     "text": [
      "The numbers except 2 and 5 are:\n",
      "\n",
      "0 1 3 4 6 7 8 9 10 "
     ]
    }
   ],
   "source": [
    "#numbers from 0 to 10 except 2 and 5\n",
    "print(\"The numbers except 2 and 5 are:\\n\")\n",
    "for x in range(11):\n",
    "    if (x==2 or x==5):\n",
    "        continue\n",
    "    print(x,end=' ')"
   ]
  }
 ],
 "metadata": {
  "kernelspec": {
   "display_name": "Python 3",
   "language": "python",
   "name": "python3"
  },
  "language_info": {
   "codemirror_mode": {
    "name": "ipython",
    "version": 3
   },
   "file_extension": ".py",
   "mimetype": "text/x-python",
   "name": "python",
   "nbconvert_exporter": "python",
   "pygments_lexer": "ipython3",
   "version": "3.6.3"
  }
 },
 "nbformat": 4,
 "nbformat_minor": 2
}
