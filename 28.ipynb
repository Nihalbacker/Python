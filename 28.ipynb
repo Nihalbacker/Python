{
 "cells": [
  {
   "cell_type": "code",
   "execution_count": 2,
   "metadata": {},
   "outputs": [
    {
     "name": "stdout",
     "output_type": "stream",
     "text": [
      "Select operations\n",
      "1.Addition\n",
      "2.Substract\n",
      "3.Multiply\n",
      "4.Divison\n",
      "enter the first number:1\n",
      "enter the second number:2\n",
      "Enter the choice:5\n",
      "Invalid\n"
     ]
    }
   ],
   "source": [
    "print(\"Select operations\")\n",
    "print(\"1.Addition\")\n",
    "print(\"2.Substract\")\n",
    "print(\"3.Multiply\")\n",
    "print(\"4.Divison\")\n",
    "a=int(input(\"enter the first number:\"))\n",
    "b=int(input(\"enter the second number:\"))\n",
    "choice=int(input(\"Enter the choice:\"))\n",
    "if(choice==1):\n",
    "    print(\"Addition=\",a+b)\n",
    "elif(choice==2):\n",
    "    print(\"Substraction=\",a-b)\n",
    "elif(choice==3):\n",
    "    print(\"Multiplication\",a*b)\n",
    "elif(choice==4):\n",
    "    print(\"Division\",a/b)\n",
    "else:\n",
    "    print(\"Invalid\")"
   ]
  }
 ],
 "metadata": {
  "kernelspec": {
   "display_name": "Python 3",
   "language": "python",
   "name": "python3"
  },
  "language_info": {
   "codemirror_mode": {
    "name": "ipython",
    "version": 3
   },
   "file_extension": ".py",
   "mimetype": "text/x-python",
   "name": "python",
   "nbconvert_exporter": "python",
   "pygments_lexer": "ipython3",
   "version": "3.6.3"
  }
 },
 "nbformat": 4,
 "nbformat_minor": 2
}
