{
 "cells": [
  {
   "cell_type": "code",
   "execution_count": 3,
   "metadata": {},
   "outputs": [
    {
     "name": "stdout",
     "output_type": "stream",
     "text": [
      "Number of occurrences of 'a': 4\n"
     ]
    }
   ],
   "source": [
    "#Store a list of first names. Count the occurrences of ‘a’ within the list.\n",
    "names = [\"Alice\", \"Bob\", \"Charlie\", \"Dave\", \"Eve\", \"Frank\"]\n",
    "    \n",
    "count = 0\n",
    "for name in names:\n",
    "    count += name.count(\"a\")\n",
    "    \n",
    "print(f\"Number of occurrences of 'a': {count}\")\n"
   ]
  }
 ],
 "metadata": {
  "kernelspec": {
   "display_name": "Python 3",
   "language": "python",
   "name": "python3"
  },
  "language_info": {
   "codemirror_mode": {
    "name": "ipython",
    "version": 3
   },
   "file_extension": ".py",
   "mimetype": "text/x-python",
   "name": "python",
   "nbconvert_exporter": "python",
   "pygments_lexer": "ipython3",
   "version": "3.6.3"
  }
 },
 "nbformat": 4,
 "nbformat_minor": 2
}
