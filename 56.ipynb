{
 "cells": [
  {
   "cell_type": "code",
   "execution_count": 3,
   "metadata": {},
   "outputs": [
    {
     "name": "stdout",
     "output_type": "stream",
     "text": [
      "Dictionary in ascending order: {'date': 1, 'banana': 2, 'cherry': 3, 'apple': 5}\n",
      "Dictionary in descending order: {'apple': 5, 'cherry': 3, 'banana': 2, 'date': 1}\n"
     ]
    }
   ],
   "source": [
    "#Sort dictionary in ascending and descending order.\n",
    "d = {'apple': 5, 'banana': 2, 'cherry': 3, 'date': 1}\n",
    "sorted_d = dict(sorted(d.items(), key=lambda x: x[1]))\n",
    "print(\"Dictionary in ascending order:\",sorted_d)\n",
    "sorted_d = dict(sorted(d.items(), key=lambda x: x[1], reverse=True))\n",
    "print(\"Dictionary in descending order:\",sorted_d)\n"
   ]
  }
 ],
 "metadata": {
  "kernelspec": {
   "display_name": "Python 3",
   "language": "python",
   "name": "python3"
  },
  "language_info": {
   "codemirror_mode": {
    "name": "ipython",
    "version": 3
   },
   "file_extension": ".py",
   "mimetype": "text/x-python",
   "name": "python",
   "nbconvert_exporter": "python",
   "pygments_lexer": "ipython3",
   "version": "3.6.3"
  }
 },
 "nbformat": 4,
 "nbformat_minor": 2
}
