{
 "cells": [
  {
   "cell_type": "code",
   "execution_count": 1,
   "metadata": {},
   "outputs": [
    {
     "name": "stdout",
     "output_type": "stream",
     "text": [
      "enter frst number2\n",
      "enter scnd number3\n",
      "enter thrd number4\n",
      "the max of the numbers is  4\n"
     ]
    }
   ],
   "source": [
    "a=int(input(\"enter frst number\"))\n",
    "b=int(input(\"enter scnd number\"))\n",
    "c=int(input(\"enter thrd number\"))\n",
    "d=max(a,b,c)\n",
    "print(\"the max of the numbers is \",d)"
   ]
  }
 ],
 "metadata": {
  "kernelspec": {
   "display_name": "Python 3",
   "language": "python",
   "name": "python3"
  },
  "language_info": {
   "codemirror_mode": {
    "name": "ipython",
    "version": 3
   },
   "file_extension": ".py",
   "mimetype": "text/x-python",
   "name": "python",
   "nbconvert_exporter": "python",
   "pygments_lexer": "ipython3",
   "version": "3.6.3"
  }
 },
 "nbformat": 4,
 "nbformat_minor": 2
}
